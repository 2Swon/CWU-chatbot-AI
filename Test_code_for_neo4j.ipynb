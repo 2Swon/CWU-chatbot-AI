{
 "cells": [
  {
   "cell_type": "code",
   "execution_count": 1,
   "id": "2beb4a8e",
   "metadata": {},
   "outputs": [],
   "source": [
    "from langchain.chains import GraphCypherQAChain\n",
    "from langchain_community.graphs import Neo4jGraph\n",
    "from langchain_openai import ChatOpenAI\n",
    "import os"
   ]
  },
  {
   "cell_type": "code",
   "execution_count": 2,
   "id": "c51381fa",
   "metadata": {},
   "outputs": [],
   "source": [
    "graph = Neo4jGraph(\n",
    "    url=\"YOUR_URL\", username=\"USER_NAME\", password=\"PASSWORD\"\n",
    ")"
   ]
  },
  {
   "cell_type": "code",
   "execution_count": 3,
   "id": "17b440cb",
   "metadata": {},
   "outputs": [],
   "source": [
    "import os\n",
    "os.environ[\"OPENAI_API_KEY\"] = \"OPEN_API_KEY\""
   ]
  },
  {
   "cell_type": "code",
   "execution_count": 11,
   "id": "6992a00e",
   "metadata": {},
   "outputs": [],
   "source": [
    "from langchain.prompts.prompt import PromptTemplate\n",
    "\n",
    "CYPHER_GENERATION_TEMPLATE = \"\"\"\n",
    "Task: Generate Cypher statement to query a graph database based on the user's question.\n",
    "Instructions:\n",
    "- Only use relationship types and properties provided in the schema.\n",
    "- Construct Cypher statements to retrieve all requested information in a single query.\n",
    "- Respond in Korean if the data is not available in the database.\n",
    "- Do not include any explanations or apologies in your responses.\n",
    "- The output should only include the Cypher statement.\n",
    "- If the node has a 'detail' attribute, the response must include this 'detail' content.\n",
    "Schema:\n",
    "{schema}\n",
    "Examples:\n",
    "# Example of how many people played in \"Top Gun\":\n",
    "MATCH (m:Movie {{title:\"Top Gun\"}})<-[:ACTED_IN]-() \n",
    "RETURN count(*) AS numberOfActors\n",
    "\n",
    "# Example of the address of \"홍성캠퍼스\":\n",
    "MATCH (c:Campus {{name:\"홍성캠퍼스\"}})-[:LOCATED_AT]->(a:Address) \n",
    "RETURN a.name as address\n",
    "\n",
    "# Example of describing the \"컴퓨터공학과\":\n",
    "MATCH (d:Department {{name:\"컴퓨터공학과\"}})-[:HAS_DESCRIPTION]->(desc:Description) \n",
    "RETURN desc.name AS Description\n",
    "\n",
    "# 인천캠퍼스의 주소와 홍성캠퍼스의 주소가 뭐야?\n",
    "MATCH (c1:Campus {{name:\"인천캠퍼스\"}})-[:LOCATED_AT]->(a1:Address),\n",
    "      (c2:Campus {{name:\"홍성캠퍼스\"}})-[:LOCATED_AT]->(a2:Address)\n",
    "RETURN a1.name AS Incheon_Campus_Address, a2.name AS Hongseong_Campus_Address\n",
    "\n",
    "# 컴퓨터공학과는 어디에 있니?\n",
    "MATCH (d:Department {{name:\"컴퓨터공학과\"}})-[:LOCATED_AT]->(l:Location)\n",
    "RETURN l.name AS location\n",
    "\n",
    "# 홍성캠퍼스의 도서관의 전화번호를 알려줘!\n",
    "MATCH (c:Campus {{name:\"홍성캠퍼스\"}})-[:INCLUDES_LIBRARY]->(l:Library)-[:HAS_PHONE_NUMBER]->(pn:PhoneNumber)\n",
    "RETURN pn.number AS Library_PhoneNumber\n",
    "\n",
    "# 입학처의 전화번호가 뭐야?\n",
    "MATCH (admission:Department {{name:\"입학처\"}})-[:HAS_PHONE_NUMBER]->(phone:PhoneNumber)\n",
    "RETURN phone.number AS PhoneNumber\n",
    "\n",
    "# 사무처의 전화번호를 알려줘!\n",
    "MATCH (office:Department {{name:\"사무처\"}})-[:HAS_PHONE_NUMBER]->(phone:PhoneNumber)\n",
    "RETURN phone.number AS PhoneNumber\n",
    "\n",
    "# 청운학사(기숙사)의 전화번호가 뭐야?\n",
    "MATCH (dormitory:Department {{name:\"청운학사(기숙사)\"}})-[:HAS_PHONE_NUMBER]->(phone:PhoneNumber)\n",
    "RETURN phone.number AS PhoneNumber\n",
    "\n",
    "# 인천캠퍼스의 교학처 전화번호가 뭐야?\n",
    "MATCH (c:Campus {{name:\"인천캠퍼스\"}})-[:INCLUDES_TEACHINGCENTER]->(tc:EducationCenter {{name:\"교학처\"}})-[:HAS_PHONE_NUMBER]->(tp:PhoneNumber)\n",
    "RETURN tp.number AS TeachingCenterPhoneNumber\n",
    "\n",
    "# 인천캠퍼스의 사무처 전화번호가 뭐야?\n",
    "MATCH (c:Campus {{name:\"인천캠퍼스\"}})-[:INCLUDES_ADMINISTRATIVECENTER]->(ac:EducationCenter {{name:\"교학처\"}})-[:HAS_PHONE_NUMBER]->(tp:PhoneNumber)\n",
    "RETURN ac.number AS AdministrativeCenterPhoneNumber\n",
    "\n",
    "# elcass 웹페이지 주소가 뭐야?\n",
    "MATCH (:Cwuwebpage)-[:OFFERS_EClass]->(w:Webpage)\n",
    "RETURN w.detail AS EClass_Webpage_Address\n",
    "\n",
    "# 수강철회 신청서는 어떻게 작성해?\n",
    "MATCH (c:CourseWithdrawal)-[:HAS_WITHDRAWAL_PROCEDURE_DOCUMENT]->(d:WithdrawalDetail)\n",
    "RETURN d.detail as document_content\n",
    "\n",
    "# 2024학번 학생이 졸업하기 위한 총 학점이 얼마야?\n",
    "MATCH (g:StudentGrade {{name: 2024}})-[:REQUIRES_TOTAL_CREDITS]->(tc:TotalCredits)\n",
    "RETURN tc.name AS TotalCreditsRequired\n",
    "\n",
    "\n",
    "\n",
    "The question is:\n",
    "{question}\n",
    "\"\"\"\n",
    "\n",
    "CYPHER_GENERATION_PROMPT = PromptTemplate(\n",
    "    input_variables=[\"schema\", \"question\"], template=CYPHER_GENERATION_TEMPLATE\n",
    ")\n",
    "\n",
    "chain = GraphCypherQAChain.from_llm(\n",
    "    ChatOpenAI(temperature=0),\n",
    "    graph=graph,\n",
    "    verbose=True,\n",
    "    cypher_prompt=CYPHER_GENERATION_PROMPT,\n",
    ")"
   ]
  },
  {
   "cell_type": "code",
   "execution_count": 5,
   "id": "49b33670",
   "metadata": {},
   "outputs": [
    {
     "name": "stderr",
     "output_type": "stream",
     "text": [
      "C:\\Users\\bjm\\anaconda3\\envs\\torch-project\\lib\\site-packages\\langchain_core\\_api\\deprecation.py:117: LangChainDeprecationWarning: The function `run` was deprecated in LangChain 0.1.0 and will be removed in 0.2.0. Use invoke instead.\n",
      "  warn_deprecated(\n"
     ]
    },
    {
     "name": "stdout",
     "output_type": "stream",
     "text": [
      "\n",
      "\n",
      "\u001b[1m> Entering new GraphCypherQAChain chain...\u001b[0m\n",
      "Generated Cypher:\n",
      "\u001b[32;1m\u001b[1;3mMATCH (c:Campus {name:\"홍성캠퍼스\"})-[:LOCATED_AT]->(a:Address) \n",
      "RETURN a.name as address\u001b[0m\n",
      "Full Context:\n",
      "\u001b[32;1m\u001b[1;3m[{'address': '충남 홍성군 홍성읍 대학1길 66'}]\u001b[0m\n",
      "\n",
      "\u001b[1m> Finished chain.\u001b[0m\n"
     ]
    },
    {
     "data": {
      "text/plain": [
       "'충남 홍성군 홍성읍 대학1길 66'"
      ]
     },
     "execution_count": 5,
     "metadata": {},
     "output_type": "execute_result"
    }
   ],
   "source": [
    "chain.run(\"홍성캠퍼스의 주소가 뭐야?\")"
   ]
  },
  {
   "cell_type": "code",
   "execution_count": 15,
   "id": "4e68d98d",
   "metadata": {},
   "outputs": [
    {
     "name": "stdout",
     "output_type": "stream",
     "text": [
      "\n",
      "\n",
      "\u001b[1m> Entering new GraphCypherQAChain chain...\u001b[0m\n",
      "Generated Cypher:\n",
      "\u001b[32;1m\u001b[1;3mMATCH (c:CourseWithdrawal)-[:HAS_WITHDRAWAL_PROCEDURE_DOCUMENT]->(d:WithdrawalDetail)\n",
      "RETURN d.detail as document_content\u001b[0m\n",
      "Full Context:\n",
      "\u001b[32;1m\u001b[1;3m[{'document_content': '홈페이지 http://home.chungwoon.ac.kr/ → 청운알림 → 서식자료실\\r\\n→ 학사서식 → 49번(수강과목 철회 신청서)'}]\u001b[0m\n",
      "\n",
      "\u001b[1m> Finished chain.\u001b[0m\n"
     ]
    },
    {
     "data": {
      "text/plain": [
       "'수강철회 신청서는 홈페이지 http://home.chungwoon.ac.kr/의 청운알림 → 서식자료실 → 학사서식에서 49번을 확인하시면 작성 방법을 찾을 수 있습니다.'"
      ]
     },
     "execution_count": 15,
     "metadata": {},
     "output_type": "execute_result"
    }
   ],
   "source": [
    "chain.run(\"수강철회 신청서는 어떻게 작성해?\")"
   ]
  },
  {
   "cell_type": "code",
   "execution_count": 12,
   "id": "d21c03ac",
   "metadata": {},
   "outputs": [
    {
     "name": "stdout",
     "output_type": "stream",
     "text": [
      "\n",
      "\n",
      "\u001b[1m> Entering new GraphCypherQAChain chain...\u001b[0m\n",
      "Generated Cypher:\n",
      "\u001b[32;1m\u001b[1;3mMATCH (:Cwuwebpage)-[:OFFERS_EClass]->(w:Webpage)\n",
      "RETURN w.detail AS EClass_Webpage_Address\u001b[0m\n",
      "Full Context:\n",
      "\u001b[32;1m\u001b[1;3m[{'EClass_Webpage_Address': 'https://cyber.chungwoon.ac.kr/ilos/main/main_form.acl'}]\u001b[0m\n",
      "\n",
      "\u001b[1m> Finished chain.\u001b[0m\n"
     ]
    },
    {
     "data": {
      "text/plain": [
       "'https://cyber.chungwoon.ac.kr/ilos/main/main_form.acl'"
      ]
     },
     "execution_count": 12,
     "metadata": {},
     "output_type": "execute_result"
    }
   ],
   "source": [
    "chain.run(\"이클래스 웹페이지 주소가 뭐야?\")"
   ]
  },
  {
   "cell_type": "code",
   "execution_count": 11,
   "id": "b344d8ae",
   "metadata": {
    "scrolled": true
   },
   "outputs": [
    {
     "name": "stdout",
     "output_type": "stream",
     "text": [
      "\n",
      "\n",
      "\u001b[1m> Entering new GraphCypherQAChain chain...\u001b[0m\n",
      "Generated Cypher:\n",
      "\u001b[32;1m\u001b[1;3mMATCH (:Cwuwebpage)-[:OFFERS_EClass]->(w:Webpage)\n",
      "RETURN w.detail AS EClass_Webpage_Address\u001b[0m\n",
      "Full Context:\n",
      "\u001b[32;1m\u001b[1;3m[{'EClass_Webpage_Address': 'https://cyber.chungwoon.ac.kr/ilos/main/main_form.acl'}]\u001b[0m\n",
      "\n",
      "\u001b[1m> Finished chain.\u001b[0m\n"
     ]
    },
    {
     "data": {
      "text/plain": [
       "'eclass 웹페이지 주소는 https://cyber.chungwoon.ac.kr/ilos/main/main_form.acl 입니다.'"
      ]
     },
     "execution_count": 11,
     "metadata": {},
     "output_type": "execute_result"
    }
   ],
   "source": [
    "chain.run(\"eclass 웹페이지 주소가 뭐야?\")"
   ]
  },
  {
   "cell_type": "code",
   "execution_count": 16,
   "id": "53ed814a",
   "metadata": {},
   "outputs": [
    {
     "name": "stdout",
     "output_type": "stream",
     "text": [
      "\n",
      "\n",
      "\u001b[1m> Entering new GraphCypherQAChain chain...\u001b[0m\n",
      "Generated Cypher:\n",
      "\u001b[32;1m\u001b[1;3mMATCH (d:Department {name:\"컴퓨터공학과\"})-[:HAS_DESCRIPTION]->(desc:Description) \n",
      "RETURN desc.name AS Description\u001b[0m\n",
      "Full Context:\n",
      "\u001b[32;1m\u001b[1;3m[{'Description': '컴퓨터공학과에서는 컴퓨터 시스템 및 소프트웨어 개발 능력과 현장 실무능력을 지닌 전문 엔지니어를 양성하고 있습니다.학과 특성을 지향하는 학술 동아리에 모든 학년이 함께 활동하고 있고, IT관련 전문 지식을 습득하고 관련 분야의 국제공인자격증 등을 취득하고 있습니다.Cisco와 Java 학술동아리는 매년 CCNA(네트워크 국제공인자격증)와 SCJP(자바프로그래머 국제공인자격증)를 취득하고 있으며, CNAP(Cisco Networking Academy Program) 프로그램을 운영하고 있습니다.소프트웨어 개발, 서버시스템 모바일 등의 프로그램을 산학협력과 실무중심으로 교육하여 매우 높은 취업률달성에 노력하고 있습니다. 실무경력이 풍부한 교수진들이 최신IT시설을 갖춘 다양한 교육시설과 최고 수준의 연구 환경을 바탕으로 현장 실습형 교육을 제공합니다.'}]\u001b[0m\n",
      "\n",
      "\u001b[1m> Finished chain.\u001b[0m\n"
     ]
    },
    {
     "data": {
      "text/plain": [
       "'컴퓨터공학과에서는 컴퓨터 시스템 및 소프트웨어 개발 능력과 현장 실무능력을 지닌 전문 엔지니어를 양성하고 있습니다. 학과 특성을 지향하는 학술 동아리에 모든 학년이 함께 활동하고 있고, IT관련 전문 지식을 습득하고 관련 분야의 국제공인자격증 등을 취득하고 있습니다. Cisco와 Java 학술동아리는 매년 CCNA(네트워크 국제공인자격증)와 SCJP(자바프로그래머 국제공인자격증)를 취득하고 있으며, CNAP(Cisco Networking Academy Program) 프로그램을 운영하고 있습니다. 소프트웨어 개발, 서버시스템 모바일 등의 프로그램을 산학협력과 실무중심으로 교육하여 매우 높은 취업률달성에 노력하고 있습니다. 실무경력이 풍부한 교수진들이 최신IT시설을 갖춘 다양한 교육시설과 최고 수준의 연구 환경을 바탕으로 현장 실습형 교육을 제공합니다.'"
      ]
     },
     "execution_count": 16,
     "metadata": {},
     "output_type": "execute_result"
    }
   ],
   "source": [
    "chain.run(\"컴퓨터공학과에 대해 설명해줘.\")"
   ]
  },
  {
   "cell_type": "code",
   "execution_count": 17,
   "id": "41308207",
   "metadata": {},
   "outputs": [
    {
     "name": "stdout",
     "output_type": "stream",
     "text": [
      "\n",
      "\n",
      "\u001b[1m> Entering new GraphCypherQAChain chain...\u001b[0m\n",
      "Generated Cypher:\n",
      "\u001b[32;1m\u001b[1;3mMATCH (:SubscriptionParking)-[:UNDERGRADUATE_FEE]->(sf:SubscriptionFee)\n",
      "RETURN sf.name AS Undergraduate_SubscriptionFee\u001b[0m\n",
      "Full Context:\n",
      "\u001b[32;1m\u001b[1;3m[{'Undergraduate_SubscriptionFee': '5000원/월 혹은 20,000원/학기'}]\u001b[0m\n",
      "\n",
      "\u001b[1m> Finished chain.\u001b[0m\n"
     ]
    },
    {
     "data": {
      "text/plain": [
       "'학부생의 정기주차 요금은 5000원/월 혹은 20,000원/학기 입니다.'"
      ]
     },
     "execution_count": 17,
     "metadata": {},
     "output_type": "execute_result"
    }
   ],
   "source": [
    "chain.run(\"학부생의 정기주차 요금은 얼마야?\")"
   ]
  },
  {
   "cell_type": "code",
   "execution_count": 18,
   "id": "2809fbb7",
   "metadata": {},
   "outputs": [
    {
     "name": "stdout",
     "output_type": "stream",
     "text": [
      "\n",
      "\n",
      "\u001b[1m> Entering new GraphCypherQAChain chain...\u001b[0m\n",
      "Generated Cypher:\n",
      "\u001b[32;1m\u001b[1;3mMATCH (c1:Campus {name:\"인천캠퍼스\"})-[:LOCATED_AT]->(a1:Address),\n",
      "      (c2:Campus {name:\"홍성캠퍼스\"})-[:LOCATED_AT]->(a2:Address)\n",
      "RETURN a1.name AS Incheon_Campus_Address, a2.name AS Hongseong_Campus_Address\u001b[0m\n",
      "Full Context:\n",
      "\u001b[32;1m\u001b[1;3m[{'Incheon_Campus_Address': '인천광역시 미추홀구 숙골로 113(도화동)', 'Hongseong_Campus_Address': '충남 홍성군 홍성읍 대학1길 66'}]\u001b[0m\n",
      "\n",
      "\u001b[1m> Finished chain.\u001b[0m\n"
     ]
    },
    {
     "data": {
      "text/plain": [
       "'인천캠퍼스의 주소는 인천광역시 미추홀구 숙골로 113(도화동)이고, 홍성캠퍼스의 주소는 충남 홍성군 홍성읍 대학1길 66입니다.'"
      ]
     },
     "execution_count": 18,
     "metadata": {},
     "output_type": "execute_result"
    }
   ],
   "source": [
    "chain.run(\"인천캠퍼스의 주소와 홍성캠퍼스의 주소가 뭐야?\")"
   ]
  },
  {
   "cell_type": "code",
   "execution_count": 19,
   "id": "ffc75e9b",
   "metadata": {},
   "outputs": [
    {
     "name": "stdout",
     "output_type": "stream",
     "text": [
      "\n",
      "\n",
      "\u001b[1m> Entering new GraphCypherQAChain chain...\u001b[0m\n",
      "Generated Cypher:\n",
      "\u001b[32;1m\u001b[1;3mMATCH (:CourseEvaluation)-[:UTILIZES_EVALUATION]->(ce:CourseEvaluationDetail)\n",
      "RETURN ce.detail as Evaluation_Utilization_Method\u001b[0m\n",
      "Full Context:\n",
      "\u001b[32;1m\u001b[1;3m[{'Evaluation_Utilization_Method': '수업 진행에 대한 학생들의 피드백을 확인함으로써 수업 개선 정보로 활용, 교수님 업적평가 및 다음 학기 수업개설에 중요한 자료로 활용, 학과 및 우리 대학 수업의 질을 높이는 데 활용'}]\u001b[0m\n",
      "\n",
      "\u001b[1m> Finished chain.\u001b[0m\n"
     ]
    },
    {
     "data": {
      "text/plain": [
       "'수업 진행에 대한 학생들의 피드백을 확인함으로써 수업 개선 정보로 활용, 교수님 업적평가 및 다음 학기 수업개설에 중요한 자료로 활용, 학과 및 우리 대학 수업의 질을 높이는 데 활용됩니다.'"
      ]
     },
     "execution_count": 19,
     "metadata": {},
     "output_type": "execute_result"
    }
   ],
   "source": [
    "chain.run(\"강의평가는 어떻게 활용되니?\")"
   ]
  },
  {
   "cell_type": "code",
   "execution_count": 16,
   "id": "7fea897a",
   "metadata": {},
   "outputs": [
    {
     "name": "stdout",
     "output_type": "stream",
     "text": [
      "\n",
      "\n",
      "\u001b[1m> Entering new GraphCypherQAChain chain...\u001b[0m\n",
      "Generated Cypher:\n",
      "\u001b[32;1m\u001b[1;3mMATCH (r:Restaurant)-[:LOCATED_AT]->(a:Address)\n",
      "RETURN r.name, a.name as detail\u001b[0m\n",
      "Full Context:\n",
      "\u001b[32;1m\u001b[1;3m[]\u001b[0m\n",
      "\n",
      "\u001b[1m> Finished chain.\u001b[0m\n"
     ]
    },
    {
     "data": {
      "text/plain": [
       "\"I don't know the answer.\""
      ]
     },
     "execution_count": 16,
     "metadata": {},
     "output_type": "execute_result"
    }
   ],
   "source": [
    "chain.run(\"식당은 어디에 위치해 있니?\")"
   ]
  },
  {
   "cell_type": "code",
   "execution_count": 21,
   "id": "ccccee23",
   "metadata": {},
   "outputs": [
    {
     "name": "stdout",
     "output_type": "stream",
     "text": [
      "\n",
      "\n",
      "\u001b[1m> Entering new GraphCypherQAChain chain...\u001b[0m\n",
      "Generated Cypher:\n",
      "\u001b[32;1m\u001b[1;3mMATCH (:StudentID)-[:WHERE_TO_USE]->(d:Description)\n",
      "RETURN d.name as Usage_Location\u001b[0m\n",
      "Full Context:\n",
      "\u001b[32;1m\u001b[1;3m[{'Usage_Location': '1.학생신분 확인, 2.도서관 대출실 이용, 3.통학버스 이용, 4.기숙사 이용'}]\u001b[0m\n",
      "\n",
      "\u001b[1m> Finished chain.\u001b[0m\n"
     ]
    },
    {
     "data": {
      "text/plain": [
       "'학생증은 1.학생신분 확인, 2.도서관 대출실 이용, 3.통학버스 이용, 4.기숙사 이용에서 사용됩니다.'"
      ]
     },
     "execution_count": 21,
     "metadata": {},
     "output_type": "execute_result"
    }
   ],
   "source": [
    "chain.run(\"학생증은 어디에서 사용하나요?\")"
   ]
  },
  {
   "cell_type": "code",
   "execution_count": 5,
   "id": "21b0c0c4",
   "metadata": {},
   "outputs": [
    {
     "name": "stderr",
     "output_type": "stream",
     "text": [
      "C:\\Users\\bjm\\anaconda3\\envs\\torch-project\\lib\\site-packages\\langchain_core\\_api\\deprecation.py:117: LangChainDeprecationWarning: The function `run` was deprecated in LangChain 0.1.0 and will be removed in 0.2.0. Use invoke instead.\n",
      "  warn_deprecated(\n"
     ]
    },
    {
     "name": "stdout",
     "output_type": "stream",
     "text": [
      "\n",
      "\n",
      "\u001b[1m> Entering new GraphCypherQAChain chain...\u001b[0m\n",
      "Generated Cypher:\n",
      "\u001b[32;1m\u001b[1;3mMATCH (d:Department {name:\"컴퓨터공학과\"})-[:LOCATED_AT]->(l:Location)\n",
      "RETURN l.name AS location\u001b[0m\n",
      "Full Context:\n",
      "\u001b[32;1m\u001b[1;3m[{'location': '인천 834호'}]\u001b[0m\n",
      "\n",
      "\u001b[1m> Finished chain.\u001b[0m\n"
     ]
    },
    {
     "data": {
      "text/plain": [
       "'인천 834호에 있습니다.'"
      ]
     },
     "execution_count": 5,
     "metadata": {},
     "output_type": "execute_result"
    }
   ],
   "source": [
    "chain.run(\"컴퓨터공학과는 어디에 있니?\")"
   ]
  },
  {
   "cell_type": "code",
   "execution_count": 12,
   "id": "f93c8a9a",
   "metadata": {},
   "outputs": [
    {
     "name": "stdout",
     "output_type": "stream",
     "text": [
      "\n",
      "\n",
      "\u001b[1m> Entering new GraphCypherQAChain chain...\u001b[0m\n",
      "Generated Cypher:\n",
      "\u001b[32;1m\u001b[1;3mMATCH (s:StudentID {name:\"2018학번\"})-[:REQUIRES_TOTAL_CREDITS]->(tc:TotalCredits),\n",
      "      (s)-[:REQUIRES_MAJOR_CREDITS]->(mc:MajorCredits)\n",
      "RETURN mc.name AS MajorCredits\u001b[0m\n",
      "Full Context:\n",
      "\u001b[32;1m\u001b[1;3m[]\u001b[0m\n",
      "\n",
      "\u001b[1m> Finished chain.\u001b[0m\n"
     ]
    },
    {
     "data": {
      "text/plain": [
       "'알 수 없습니다.'"
      ]
     },
     "execution_count": 12,
     "metadata": {},
     "output_type": "execute_result"
    }
   ],
   "source": [
    "chain.run(\"2018학번의 졸업학점의 전공학점을 알려줘!\")"
   ]
  },
  {
   "cell_type": "code",
   "execution_count": 5,
   "id": "2ffa3149",
   "metadata": {},
   "outputs": [
    {
     "name": "stderr",
     "output_type": "stream",
     "text": [
      "C:\\Users\\bjm\\anaconda3\\envs\\torch-project\\lib\\site-packages\\langchain_core\\_api\\deprecation.py:117: LangChainDeprecationWarning: The function `run` was deprecated in LangChain 0.1.0 and will be removed in 0.2.0. Use invoke instead.\n",
      "  warn_deprecated(\n"
     ]
    },
    {
     "name": "stdout",
     "output_type": "stream",
     "text": [
      "\n",
      "\n",
      "\u001b[1m> Entering new GraphCypherQAChain chain...\u001b[0m\n",
      "Generated Cypher:\n",
      "\u001b[32;1m\u001b[1;3mMATCH (c:Campus {name:\"홍성캠퍼스\"})-[:INCLUDES_LIBRARY]->(l:Library)-[:HAS_PHONE_NUMBER]->(pn:PhoneNumber)\n",
      "RETURN pn.number AS Library_PhoneNumber\u001b[0m\n",
      "Full Context:\n",
      "\u001b[32;1m\u001b[1;3m[{'Library_PhoneNumber': '041-630-3124, 041-630-3153, 041-630-3178, 041-630-3155'}]\u001b[0m\n",
      "\n",
      "\u001b[1m> Finished chain.\u001b[0m\n"
     ]
    },
    {
     "data": {
      "text/plain": [
       "'홍성캠퍼스 도서관의 전화번호는 041-630-3124, 041-630-3153, 041-630-3178, 041-630-3155 입니다.'"
      ]
     },
     "execution_count": 5,
     "metadata": {},
     "output_type": "execute_result"
    }
   ],
   "source": [
    "chain.run(\"홍성캠퍼스 도서관의 전화번호가 뭐야?\")"
   ]
  },
  {
   "cell_type": "code",
   "execution_count": 6,
   "id": "266cbc10",
   "metadata": {},
   "outputs": [
    {
     "name": "stdout",
     "output_type": "stream",
     "text": [
      "\n",
      "\n",
      "\u001b[1m> Entering new GraphCypherQAChain chain...\u001b[0m\n",
      "Generated Cypher:\n",
      "\u001b[32;1m\u001b[1;3mMATCH (c:Campus {name:\"인천캠퍼스\"})-[:INCLUDES_LIBRARY]->(l:Library)-[:HAS_PHONE_NUMBER]->(pn:PhoneNumber)\n",
      "RETURN pn.number AS Library_PhoneNumber\u001b[0m\n",
      "Full Context:\n",
      "\u001b[32;1m\u001b[1;3m[{'Library_PhoneNumber': '032-770-8141, 032-770-8142, 032-770-8143'}]\u001b[0m\n",
      "\n",
      "\u001b[1m> Finished chain.\u001b[0m\n"
     ]
    },
    {
     "data": {
      "text/plain": [
       "'인천캠퍼스 도서관의 전화번호는 032-770-8141, 032-770-8142, 032-770-8143 입니다.'"
      ]
     },
     "execution_count": 6,
     "metadata": {},
     "output_type": "execute_result"
    }
   ],
   "source": [
    "chain.run(\"인천캠퍼스 도서관의 전화번호를 알려줘!\")"
   ]
  },
  {
   "cell_type": "code",
   "execution_count": 9,
   "id": "fc9c61ed",
   "metadata": {},
   "outputs": [
    {
     "name": "stdout",
     "output_type": "stream",
     "text": [
      "\n",
      "\n",
      "\u001b[1m> Entering new GraphCypherQAChain chain...\u001b[0m\n",
      "Generated Cypher:\n",
      "\u001b[32;1m\u001b[1;3mMATCH (c:Campus {name:\"인천캠퍼스\"})-[:INCLUDES_ADMINISTRATIVECENTER]->(ac:EducationCenter {name:\"사무처\"})-[:HAS_PHONE_NUMBER]->(phone:PhoneNumber)\n",
      "RETURN phone.number AS PhoneNumber\u001b[0m\n",
      "Full Context:\n",
      "\u001b[32;1m\u001b[1;3m[{'PhoneNumber': '032-770-8121'}]\u001b[0m\n",
      "\n",
      "\u001b[1m> Finished chain.\u001b[0m\n"
     ]
    },
    {
     "data": {
      "text/plain": [
       "'032-770-8121'"
      ]
     },
     "execution_count": 9,
     "metadata": {},
     "output_type": "execute_result"
    }
   ],
   "source": [
    "chain.run(\"인천캠퍼스 사무처의 전화번호가 뭐야?\")"
   ]
  },
  {
   "cell_type": "code",
   "execution_count": 5,
   "id": "3f6ee8de",
   "metadata": {},
   "outputs": [
    {
     "name": "stderr",
     "output_type": "stream",
     "text": [
      "C:\\Users\\bjm\\anaconda3\\envs\\torch-project\\lib\\site-packages\\langchain_core\\_api\\deprecation.py:117: LangChainDeprecationWarning: The function `run` was deprecated in LangChain 0.1.0 and will be removed in 0.2.0. Use invoke instead.\n",
      "  warn_deprecated(\n"
     ]
    },
    {
     "name": "stdout",
     "output_type": "stream",
     "text": [
      "\n",
      "\n",
      "\u001b[1m> Entering new GraphCypherQAChain chain...\u001b[0m\n",
      "Generated Cypher:\n",
      "\u001b[32;1m\u001b[1;3mMATCH (c:Campus {name:\"홍성캠퍼스\"})-[:INCLUDES_DORMITORY]->(d:Department {name:\"청운학사(기숙사)\"})-[:HAS_PHONE_NUMBER]->(pn:PhoneNumber)\n",
      "RETURN pn.number AS Dormitory_PhoneNumber\u001b[0m\n",
      "Full Context:\n",
      "\u001b[32;1m\u001b[1;3m[{'Dormitory_PhoneNumber': '041-630-3415'}]\u001b[0m\n",
      "\n",
      "\u001b[1m> Finished chain.\u001b[0m\n"
     ]
    },
    {
     "data": {
      "text/plain": [
       "'041-630-3415'"
      ]
     },
     "execution_count": 5,
     "metadata": {},
     "output_type": "execute_result"
    }
   ],
   "source": [
    "chain.run(\"홍성캠퍼스 기숙사 전화번호가 뭐야?\")"
   ]
  },
  {
   "cell_type": "code",
   "execution_count": 5,
   "id": "1d1b537b",
   "metadata": {},
   "outputs": [
    {
     "name": "stderr",
     "output_type": "stream",
     "text": [
      "C:\\Users\\bjm\\anaconda3\\envs\\torch-project\\lib\\site-packages\\langchain_core\\_api\\deprecation.py:117: LangChainDeprecationWarning: The function `run` was deprecated in LangChain 0.1.0 and will be removed in 0.2.0. Use invoke instead.\n",
      "  warn_deprecated(\n"
     ]
    },
    {
     "name": "stdout",
     "output_type": "stream",
     "text": [
      "\n",
      "\n",
      "\u001b[1m> Entering new GraphCypherQAChain chain...\u001b[0m\n",
      "Generated Cypher:\n",
      "\u001b[32;1m\u001b[1;3mMATCH (c:CourseWithdrawal)-[:HAS_WITHDRAWAL_LOCATION]->(w:WithdrawalDetail)\n",
      "RETURN w.name AS Withdrawal_Location\u001b[0m\n",
      "Full Context:\n",
      "\u001b[32;1m\u001b[1;3m[{'Withdrawal_Location': '교무연구(교학)처(홍성-대학본부 129호, 인천-112호)'}]\u001b[0m\n",
      "\n",
      "\u001b[1m> Finished chain.\u001b[0m\n"
     ]
    },
    {
     "data": {
      "text/plain": [
       "'교무연구(교학)처(홍성-대학본부 129호, 인천-112호) 에 있습니다.'"
      ]
     },
     "execution_count": 5,
     "metadata": {},
     "output_type": "execute_result"
    }
   ],
   "source": [
    "chain.run(\"수강철회장소는 어디에 있니?\")"
   ]
  },
  {
   "cell_type": "code",
   "execution_count": 9,
   "id": "f872a7fe",
   "metadata": {},
   "outputs": [
    {
     "name": "stdout",
     "output_type": "stream",
     "text": [
      "\n",
      "\n",
      "\u001b[1m> Entering new GraphCypherQAChain chain...\u001b[0m\n",
      "Generated Cypher:\n",
      "\u001b[32;1m\u001b[1;3mMATCH (:VolunteeringRequirement {name:\"사회봉사\"})-[:REQUIRES_CERTIFICATE_SUBMISSION]->(csd:CommunityServiceDetail)\n",
      "RETURN csd.detail AS Submission_Method\u001b[0m\n",
      "Full Context:\n",
      "\u001b[32;1m\u001b[1;3m[{'Submission_Method': '개별봉사활동입력 후 봉사활동확인서 업로드 - 통합정보시스템 로그인 → C.E.P(인재양성) 시스템 → 역량개발 → 교외활동 → 봉사활동 → 등록하기(봉사활동 일자별 내용 작성 후 확인서 및 인증서 첨부) - 사회복지자원봉사인증관리(VMS), 1365자원봉사자포털을 통해 봉사활동을 진행하고 봉사활동 확인서를 PDF로 내려받아 봉사활동 등록 시 첨부'}]\u001b[0m\n",
      "\n",
      "\u001b[1m> Finished chain.\u001b[0m\n"
     ]
    },
    {
     "data": {
      "text/plain": [
       "'개별봉사활동입력 후 봉사활동확인서 업로드 - 통합정보시스템 로그인 → C.E.P(인재양성) 시스템 → 역량개발 → 교외활동 → 봉사활동 → 등록하기(봉사활동 일자별 내용 작성 후 확인서 및 인증서 첨부) - 사회복지자원봉사인증관리(VMS), 1365자원봉사자포털을 통해 봉사활동을 진행하고 봉사활동 확인서를 PDF로 내려받아 봉사활동 등록 시 첨부.'"
      ]
     },
     "execution_count": 9,
     "metadata": {},
     "output_type": "execute_result"
    }
   ],
   "source": [
    "chain.run(\"사회봉사 인증서 제출방법이 뭐야?\")"
   ]
  },
  {
   "cell_type": "code",
   "execution_count": 12,
   "id": "30aeb9a2",
   "metadata": {},
   "outputs": [
    {
     "name": "stdout",
     "output_type": "stream",
     "text": [
      "\n",
      "\n",
      "\u001b[1m> Entering new GraphCypherQAChain chain...\u001b[0m\n",
      "Generated Cypher:\n",
      "\u001b[32;1m\u001b[1;3mMATCH (g:StudentGrade {name: 2024})-[:REQUIRES_TOTAL_CREDITS]->(tc:TotalCredits)\n",
      "RETURN tc.name AS TotalCreditsRequired\u001b[0m\n",
      "Full Context:\n",
      "\u001b[32;1m\u001b[1;3m[{'TotalCreditsRequired': 130}]\u001b[0m\n",
      "\n",
      "\u001b[1m> Finished chain.\u001b[0m\n"
     ]
    },
    {
     "data": {
      "text/plain": [
       "'2024 학생의 졸업학점이 총 130학점을 들어야 합니다.'"
      ]
     },
     "execution_count": 12,
     "metadata": {},
     "output_type": "execute_result"
    }
   ],
   "source": [
    "chain.run(\"2024 학생의 졸업학점이 총 몇학점을 들어야 하니?\")"
   ]
  },
  {
   "cell_type": "code",
   "execution_count": 13,
   "id": "c05b09d0",
   "metadata": {},
   "outputs": [
    {
     "name": "stdout",
     "output_type": "stream",
     "text": [
      "\n",
      "\n",
      "\u001b[1m> Entering new GraphCypherQAChain chain...\u001b[0m\n",
      "Generated Cypher:\n",
      "\u001b[32;1m\u001b[1;3mMATCH (g:StudentGrade {name: 2018})-[:REQUIRES_TOTAL_CREDITS]->(tc:TotalCredits)\n",
      "RETURN tc.name AS TotalCreditsRequired\u001b[0m\n",
      "Full Context:\n",
      "\u001b[32;1m\u001b[1;3m[{'TotalCreditsRequired': '130, 간호학과 학생은 140'}]\u001b[0m\n",
      "\n",
      "\u001b[1m> Finished chain.\u001b[0m\n"
     ]
    },
    {
     "data": {
      "text/plain": [
       "'18학번 학생이 졸업을 위해 총 130 학점을 들어야 합니다.'"
      ]
     },
     "execution_count": 13,
     "metadata": {},
     "output_type": "execute_result"
    }
   ],
   "source": [
    "chain.run(\"18학번 학생이 졸업을 위해 총 몇 학점을 들어야 하니?\")"
   ]
  },
  {
   "cell_type": "code",
   "execution_count": 14,
   "id": "031331cd",
   "metadata": {},
   "outputs": [
    {
     "name": "stdout",
     "output_type": "stream",
     "text": [
      "\n",
      "\n",
      "\u001b[1m> Entering new GraphCypherQAChain chain...\u001b[0m\n",
      "Generated Cypher:\n",
      "\u001b[32;1m\u001b[1;3mMATCH (g:StudentGrade {name: 2020})-[:REQUIRES_ELECTIVE_CREDITS]->(ec:ElectiveCredits)\n",
      "RETURN ec.name AS RequiredElectiveCredits\u001b[0m\n",
      "Full Context:\n",
      "\u001b[32;1m\u001b[1;3m[{'RequiredElectiveCredits': '33~42'}]\u001b[0m\n",
      "\n",
      "\u001b[1m> Finished chain.\u001b[0m\n"
     ]
    },
    {
     "data": {
      "text/plain": [
       "'20학번 학생이 졸업을 위해 교양과목을 총 33~42 학점을 들어야 합니다.'"
      ]
     },
     "execution_count": 14,
     "metadata": {},
     "output_type": "execute_result"
    }
   ],
   "source": [
    "chain.run(\"20학번 학생이 졸업을 위해 교양과목을 총 몇 학점을 들어야 하니?\")"
   ]
  },
  {
   "cell_type": "code",
   "execution_count": null,
   "id": "ca97f495",
   "metadata": {},
   "outputs": [],
   "source": []
  }
 ],
 "metadata": {
  "kernelspec": {
   "display_name": "Python 3 (ipykernel)",
   "language": "python",
   "name": "python3"
  },
  "language_info": {
   "codemirror_mode": {
    "name": "ipython",
    "version": 3
   },
   "file_extension": ".py",
   "mimetype": "text/x-python",
   "name": "python",
   "nbconvert_exporter": "python",
   "pygments_lexer": "ipython3",
   "version": "3.10.9"
  }
 },
 "nbformat": 4,
 "nbformat_minor": 5
}
