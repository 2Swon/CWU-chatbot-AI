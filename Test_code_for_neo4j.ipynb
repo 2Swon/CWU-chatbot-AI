{
 "cells": [
  {
   "cell_type": "code",
   "execution_count": 1,
   "id": "2beb4a8e",
   "metadata": {},
   "outputs": [],
   "source": [
    "from langchain.chains import GraphCypherQAChain\n",
    "from langchain_community.graphs import Neo4jGraph\n",
    "from langchain_openai import ChatOpenAI\n",
    "import os"
   ]
  },
  {
   "cell_type": "code",
   "execution_count": 2,
   "id": "c51381fa",
   "metadata": {},
   "outputs": [],
   "source": [
    "graph = Neo4jGraph(\n",
    "    url=\"YOUR_URL\", username=\"USER_NAME\", password=\"PASSWORD\"\n",
    ")"
   ]
  },
  {
   "cell_type": "code",
   "execution_count": 3,
   "id": "17b440cb",
   "metadata": {},
   "outputs": [],
   "source": [
    "import os\n",
    "os.environ[\"OPENAI_API_KEY\"] = \"OPEN_API_KEY\""
   ]
  },
  {
   "cell_type": "code",
   "execution_count": 4,
   "id": "c2f11dab",
   "metadata": {},
   "outputs": [],
   "source": [
    "from neo4j import GraphDatabase\n",
    "\n",
    "class Neo4jConnection:\n",
    "    def __init__(self, uri, user, password):\n",
    "        self.driver = GraphDatabase.driver(uri, auth=(user, password))\n",
    "\n",
    "    def close(self):\n",
    "        self.driver.close()\n",
    "\n",
    "    def run_query(self, query, parameters=None):\n",
    "        try:\n",
    "            with self.driver.session() as session:\n",
    "                return session.run(query, parameters)\n",
    "        except CypherSyntaxError as e:\n",
    "            print(\"Cypher 쿼리 구문 오류가 발생했습니다:\", e.message)\n",
    "        except Exception as e:\n",
    "            print(\"예상치 못한 오류가 발생했습니다:\", str(e))"
   ]
  },
  {
   "cell_type": "code",
   "execution_count": 5,
   "id": "1ebebcea",
   "metadata": {},
   "outputs": [],
   "source": [
    "# 원본\n",
    "from langchain.prompts.prompt import PromptTemplate\n",
    "\n",
    "CYPHER_GENERATION_TEMPLATE = \"\"\"Task:Generate Cypher statement to query a graph database.\n",
    "Instructions:\n",
    "If you receive a question about data that is not stored in neo4j, please answer in Korean that you are not sure about the information.\n",
    "Use only the provided relationship types and properties in the schema.\n",
    "Do not use any other relationship types or properties that are not provided.\n",
    "Construct a Cypher statement that can retrieve all requested information in a single query.\n",
    "Schema:\n",
    "{schema}\n",
    "Note: Do not include any explanations or apologies in your responses.\n",
    "#If a question comes in in Korean, translate it into English.\n",
    "Do not respond to any questions that might ask anything else than for you to construct a Cypher statement.\n",
    "Find the name part of the node, but if there is detail content in the node, please tell us the content of detail as a result.\n",
    "Do not include any text except the generated Cypher statement.\n",
    "Examples: Here are a few examples of generated Cypher statements for particular questions:\n",
    "# How many people played in Top Gun?\n",
    "MATCH (m:Movie {{title:\"Top Gun\"}})<-[:ACTED_IN]-()\n",
    "RETURN count(*) AS numberOfActors\n",
    "\n",
    "The question is:\n",
    "{question}\"\"\"\n",
    "\n",
    "CYPHER_GENERATION_PROMPT = PromptTemplate(\n",
    "    input_variables=[\"schema\", \"question\"], template=CYPHER_GENERATION_TEMPLATE\n",
    ")\n",
    "\n",
    "chain = GraphCypherQAChain.from_llm(\n",
    "    ChatOpenAI(temperature=0),\n",
    "    graph=graph,\n",
    "    verbose=True,\n",
    "    cypher_prompt=CYPHER_GENERATION_PROMPT,\n",
    ")"
   ]
  },
  {
   "cell_type": "code",
   "execution_count": 6,
   "id": "37c3fdd3",
   "metadata": {},
   "outputs": [],
   "source": [
    "def run_query_with_exception_handling(question):\n",
    "    try:\n",
    "        result = chain.run(question)\n",
    "        \n",
    "        if not result or result == \"I don't know the answer.\":\n",
    "            print('요청하신 정보를 찾을 수 없거나 데이터베이스에 없습니다.')\n",
    "        else:\n",
    "            print(result)\n",
    "            \n",
    "    except Exception as e:\n",
    "        print(f'오류가 발생했습니다: {str(e)}')"
   ]
  },
  {
   "cell_type": "code",
   "execution_count": 18,
   "id": "49b33670",
   "metadata": {},
   "outputs": [
    {
     "name": "stdout",
     "output_type": "stream",
     "text": [
      "\n",
      "\n",
      "\u001b[1m> Entering new GraphCypherQAChain chain...\u001b[0m\n",
      "Generated Cypher:\n",
      "\u001b[32;1m\u001b[1;3mMATCH (c:Campus {name:\"홍성캠퍼스\"})-[:LOCATED_AT]->(a:Address)\n",
      "RETURN a.name AS address\u001b[0m\n",
      "Full Context:\n",
      "\u001b[32;1m\u001b[1;3m[{'address': '충남 홍성군 홍성읍 대학1길 66'}]\u001b[0m\n",
      "\n",
      "\u001b[1m> Finished chain.\u001b[0m\n"
     ]
    },
    {
     "data": {
      "text/plain": [
       "'충남 홍성군 홍성읍 대학1길 66'"
      ]
     },
     "execution_count": 18,
     "metadata": {},
     "output_type": "execute_result"
    }
   ],
   "source": [
    "chain.run(\"홍성캠퍼스의 주소가 뭐야?\")"
   ]
  },
  {
   "cell_type": "code",
   "execution_count": 19,
   "id": "4e68d98d",
   "metadata": {},
   "outputs": [
    {
     "name": "stdout",
     "output_type": "stream",
     "text": [
      "\n",
      "\n",
      "\u001b[1m> Entering new GraphCypherQAChain chain...\u001b[0m\n",
      "Generated Cypher:\n",
      "\u001b[32;1m\u001b[1;3mMATCH (c:CourseWithdrawal)-[:HAS_WITHDRAWAL_PROCEDURE_DOCUMENT]->(wd:WithdrawalDetail)\n",
      "RETURN wd.detail AS WithdrawalProcedureDocument\u001b[0m\n",
      "Full Context:\n",
      "\u001b[32;1m\u001b[1;3m[{'WithdrawalProcedureDocument': '홈페이지 http://home.chungwoon.ac.kr/ → 청운알림 → 서식자료실\\r\\n→ 학사서식 → 49번(수강과목 철회 신청서)'}]\u001b[0m\n",
      "\n",
      "\u001b[1m> Finished chain.\u001b[0m\n"
     ]
    },
    {
     "data": {
      "text/plain": [
       "'수강철회 신청서는 홈페이지 http://home.chungwoon.ac.kr/ 에서 청운알림 → 서식자료실 → 학사서식 → 49번(수강과목 철회 신청서)를 참고하여 작성하시면 됩니다.'"
      ]
     },
     "execution_count": 19,
     "metadata": {},
     "output_type": "execute_result"
    }
   ],
   "source": [
    "chain.run(\"수강철회 신청서는 어떻게 작성해?\")"
   ]
  },
  {
   "cell_type": "code",
   "execution_count": 20,
   "id": "d21c03ac",
   "metadata": {},
   "outputs": [
    {
     "name": "stdout",
     "output_type": "stream",
     "text": [
      "\n",
      "\n",
      "\u001b[1m> Entering new GraphCypherQAChain chain...\u001b[0m\n",
      "Generated Cypher:\n",
      "\u001b[32;1m\u001b[1;3mMATCH (c:Cwuwebpage)-[:OFFERS_EClass]->(w:Webpage)\n",
      "RETURN w.detail AS webpageAddress\u001b[0m\n",
      "Full Context:\n",
      "\u001b[32;1m\u001b[1;3m[{'webpageAddress': 'https://cyber.chungwoon.ac.kr/ilos/main/main_form.acl'}]\u001b[0m\n",
      "\n",
      "\u001b[1m> Finished chain.\u001b[0m\n"
     ]
    },
    {
     "data": {
      "text/plain": [
       "'이클래스 웹페이지 주소는 https://cyber.chungwoon.ac.kr/ilos/main/main_form.acl 입니다.'"
      ]
     },
     "execution_count": 20,
     "metadata": {},
     "output_type": "execute_result"
    }
   ],
   "source": [
    "chain.run(\"이클래스 웹페이지 주소가 뭐야?\")"
   ]
  },
  {
   "cell_type": "code",
   "execution_count": 21,
   "id": "b344d8ae",
   "metadata": {},
   "outputs": [
    {
     "name": "stdout",
     "output_type": "stream",
     "text": [
      "\n",
      "\n",
      "\u001b[1m> Entering new GraphCypherQAChain chain...\u001b[0m\n",
      "Generated Cypher:\n",
      "\u001b[32;1m\u001b[1;3mMATCH (c:Cwuwebpage)-[:OFFERS_EClass]->(w:Webpage)\n",
      "RETURN w.detail AS eclassWebpageAddress\u001b[0m\n",
      "Full Context:\n",
      "\u001b[32;1m\u001b[1;3m[{'eclassWebpageAddress': 'https://cyber.chungwoon.ac.kr/ilos/main/main_form.acl'}]\u001b[0m\n",
      "\n",
      "\u001b[1m> Finished chain.\u001b[0m\n"
     ]
    },
    {
     "data": {
      "text/plain": [
       "'eclass 웹페이지 주소는 https://cyber.chungwoon.ac.kr/ilos/main/main_form.acl 입니다.'"
      ]
     },
     "execution_count": 21,
     "metadata": {},
     "output_type": "execute_result"
    }
   ],
   "source": [
    "chain.run(\"eclass 웹페이지 주소가 뭐야?\")"
   ]
  },
  {
   "cell_type": "code",
   "execution_count": 22,
   "id": "53ed814a",
   "metadata": {},
   "outputs": [
    {
     "name": "stdout",
     "output_type": "stream",
     "text": [
      "\n",
      "\n",
      "\u001b[1m> Entering new GraphCypherQAChain chain...\u001b[0m\n",
      "Generated Cypher:\n",
      "\u001b[32;1m\u001b[1;3mMATCH (d:Department {name:\"컴퓨터공학과\"})-[:HAS_DESCRIPTION]->(desc:Description)\n",
      "RETURN desc.name AS Description\u001b[0m\n",
      "Full Context:\n",
      "\u001b[32;1m\u001b[1;3m[{'Description': '컴퓨터공학과에서는 컴퓨터 시스템 및 소프트웨어 개발 능력과 현장 실무능력을 지닌 전문 엔지니어를 양성하고 있습니다.학과 특성을 지향하는 학술 동아리에 모든 학년이 함께 활동하고 있고, IT관련 전문 지식을 습득하고 관련 분야의 국제공인자격증 등을 취득하고 있습니다.Cisco와 Java 학술동아리는 매년 CCNA(네트워크 국제공인자격증)와 SCJP(자바프로그래머 국제공인자격증)를 취득하고 있으며, CNAP(Cisco Networking Academy Program) 프로그램을 운영하고 있습니다.소프트웨어 개발, 서버시스템 모바일 등의 프로그램을 산학협력과 실무중심으로 교육하여 매우 높은 취업률달성에 노력하고 있습니다. 실무경력이 풍부한 교수진들이 최신IT시설을 갖춘 다양한 교육시설과 최고 수준의 연구 환경을 바탕으로 현장 실습형 교육을 제공합니다.'}]\u001b[0m\n",
      "\n",
      "\u001b[1m> Finished chain.\u001b[0m\n"
     ]
    },
    {
     "data": {
      "text/plain": [
       "'컴퓨터공학과에서는 컴퓨터 시스템 및 소프트웨어 개발 능력과 현장 실무능력을 지닌 전문 엔지니어를 양성하고 있습니다. 학과 특성을 지향하는 학술 동아리에 모든 학년이 함께 활동하고 있고, IT관련 전문 지식을 습득하고 관련 분야의 국제공인자격증 등을 취득하고 있습니다. Cisco와 Java 학술동아리는 매년 CCNA(네트워크 국제공인자격증)와 SCJP(자바프로그래머 국제공인자격증)를 취득하고 있으며, CNAP(Cisco Networking Academy Program) 프로그램을 운영하고 있습니다. 소프트웨어 개발, 서버시스템 모바일 등의 프로그램을 산학협력과 실무중심으로 교육하여 매우 높은 취업률달성에 노력하고 있습니다. 실무경력이 풍부한 교수진들이 최신IT시설을 갖춘 다양한 교육시설과 최고 수준의 연구 환경을 바탕으로 현장 실습형 교육을 제공합니다.'"
      ]
     },
     "execution_count": 22,
     "metadata": {},
     "output_type": "execute_result"
    }
   ],
   "source": [
    "chain.run(\"컴퓨터공학과에 대해 설명해줘!\")"
   ]
  },
  {
   "cell_type": "code",
   "execution_count": 23,
   "id": "41308207",
   "metadata": {},
   "outputs": [
    {
     "name": "stdout",
     "output_type": "stream",
     "text": [
      "\n",
      "\n",
      "\u001b[1m> Entering new GraphCypherQAChain chain...\u001b[0m\n",
      "Generated Cypher:\n",
      "\u001b[32;1m\u001b[1;3mMATCH (s:SubscriptionParking)-[:HAS_UNDERGRADUATE_FEE]->(f:SubscriptionFee)\n",
      "RETURN f.name AS UndergraduateParkingFee\u001b[0m\n",
      "Full Context:\n",
      "\u001b[32;1m\u001b[1;3m[{'UndergraduateParkingFee': '5000원/월 혹은 20,000원/학기'}]\u001b[0m\n",
      "\n",
      "\u001b[1m> Finished chain.\u001b[0m\n"
     ]
    },
    {
     "data": {
      "text/plain": [
       "'5000원/월 혹은 20,000원/학기입니다.'"
      ]
     },
     "execution_count": 23,
     "metadata": {},
     "output_type": "execute_result"
    }
   ],
   "source": [
    "chain.run(\"학부생의 정기주차 요금은 얼마야?\")"
   ]
  },
  {
   "cell_type": "code",
   "execution_count": 24,
   "id": "2809fbb7",
   "metadata": {},
   "outputs": [
    {
     "name": "stdout",
     "output_type": "stream",
     "text": [
      "\n",
      "\n",
      "\u001b[1m> Entering new GraphCypherQAChain chain...\u001b[0m\n",
      "Generated Cypher:\n",
      "\u001b[32;1m\u001b[1;3mMATCH (i:Campus)-[:LOCATED_AT]->(a:Address)\n",
      "WHERE i.name = \"인천캠퍼스\" OR i.name = \"홍성캠퍼스\"\n",
      "RETURN i.name, a.name as address\u001b[0m\n",
      "Full Context:\n",
      "\u001b[32;1m\u001b[1;3m[{'i.name': '인천캠퍼스', 'address': '인천광역시 미추홀구 숙골로 113(도화동)'}, {'i.name': '홍성캠퍼스', 'address': '충남 홍성군 홍성읍 대학1길 66'}]\u001b[0m\n",
      "\n",
      "\u001b[1m> Finished chain.\u001b[0m\n"
     ]
    },
    {
     "data": {
      "text/plain": [
       "'인천캠퍼스의 주소는 인천광역시 미추홀구 숙골로 113(도화동)이고, 홍성캠퍼스의 주소는 충남 홍성군 홍성읍 대학1길 66입니다.'"
      ]
     },
     "execution_count": 24,
     "metadata": {},
     "output_type": "execute_result"
    }
   ],
   "source": [
    "chain.run(\"인천캠퍼스의 주소와 홍성캠퍼스의 주소가 뭐야?\")"
   ]
  },
  {
   "cell_type": "code",
   "execution_count": 25,
   "id": "ffc75e9b",
   "metadata": {},
   "outputs": [
    {
     "name": "stdout",
     "output_type": "stream",
     "text": [
      "\n",
      "\n",
      "\u001b[1m> Entering new GraphCypherQAChain chain...\u001b[0m\n",
      "Generated Cypher:\n",
      "\u001b[32;1m\u001b[1;3mMATCH (:CourseEvaluation)-[:UTILIZES_EVALUATION_USAGE]->(ce:CourseEvaluationDetail)\n",
      "RETURN ce.detail AS EvaluationUsage\u001b[0m\n",
      "Full Context:\n",
      "\u001b[32;1m\u001b[1;3m[{'EvaluationUsage': '수업 진행에 대한 학생들의 피드백을 확인함으로써 수업 개선 정보로 활용, 교수님 업적평가 및 다음 학기 수업개설에 중요한 자료로 활용, 학과 및 우리 대학 수업의 질을 높이는 데 활용'}]\u001b[0m\n",
      "\n",
      "\u001b[1m> Finished chain.\u001b[0m\n"
     ]
    },
    {
     "data": {
      "text/plain": [
       "'수업 진행에 대한 학생들의 피드백을 확인함으로써 수업 개선 정보로 활용, 교수님 업적평가 및 다음 학기 수업개설에 중요한 자료로 활용, 학과 및 우리 대학 수업의 질을 높이는 데 활용합니다.'"
      ]
     },
     "execution_count": 25,
     "metadata": {},
     "output_type": "execute_result"
    }
   ],
   "source": [
    "chain.run(\"강의평가는 어떻게 활용되니?\")"
   ]
  },
  {
   "cell_type": "code",
   "execution_count": 26,
   "id": "7fea897a",
   "metadata": {},
   "outputs": [
    {
     "name": "stdout",
     "output_type": "stream",
     "text": [
      "\n",
      "\n",
      "\u001b[1m> Entering new GraphCypherQAChain chain...\u001b[0m\n",
      "Generated Cypher:\n",
      "\u001b[32;1m\u001b[1;3mMATCH (r:Restaurant)-[:LOCATED_AT]->(a:Address)\n",
      "RETURN r.name, a.name as location\u001b[0m\n",
      "Full Context:\n",
      "\u001b[32;1m\u001b[1;3m[]\u001b[0m\n",
      "\n",
      "\u001b[1m> Finished chain.\u001b[0m\n"
     ]
    },
    {
     "data": {
      "text/plain": [
       "\"I don't know the answer.\""
      ]
     },
     "execution_count": 26,
     "metadata": {},
     "output_type": "execute_result"
    }
   ],
   "source": [
    "chain.run(\"식당은 어디에 위치해 있니?\")"
   ]
  },
  {
   "cell_type": "code",
   "execution_count": null,
   "id": "31be6444",
   "metadata": {},
   "outputs": [],
   "source": [
    "run_query_with_exception_handling(\"식당은 어디에 위치해 있니?\")"
   ]
  }
 ],
 "metadata": {
  "kernelspec": {
   "display_name": "Python 3 (ipykernel)",
   "language": "python",
   "name": "python3"
  },
  "language_info": {
   "codemirror_mode": {
    "name": "ipython",
    "version": 3
   },
   "file_extension": ".py",
   "mimetype": "text/x-python",
   "name": "python",
   "nbconvert_exporter": "python",
   "pygments_lexer": "ipython3",
   "version": "3.10.9"
  }
 },
 "nbformat": 4,
 "nbformat_minor": 5
}
